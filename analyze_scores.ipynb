{
 "cells": [
  {
   "cell_type": "code",
   "execution_count": 1,
   "metadata": {},
   "outputs": [],
   "source": [
    "import os\n",
    "import nibabel as nib\n",
    "import numpy as np\n",
    "import cv2\n",
    "from tqdm import tqdm\n",
    "from skimage import restoration, io, color\n",
    "from skimage.measure import blur_effect\n",
    "import pandas as pd\n",
    "from utils import get_basename, create_save_nifti\n",
    "from scipy.ndimage import binary_fill_holes\n",
    "from scipy.ndimage import zoom\n",
    "import numpy"
   ]
  },
  {
   "cell_type": "code",
   "execution_count": 15,
   "metadata": {},
   "outputs": [],
   "source": [
    "fg_scores_path = 'data/EXAMES/Calcium_Scores_Estimations/Fake_Gated/avg=4/130/calcium_score_estimations_avg=4.csv'\n",
    "gated_scores_path = 'data/EXAMES/Calcium_Scores_Estimations/Gated/All Slices/calcium_score_estimations_dilate_it=5_dilate_k=5.csv'"
   ]
  },
  {
   "cell_type": "code",
   "execution_count": 16,
   "metadata": {},
   "outputs": [],
   "source": [
    "fake_gated = pd.read_csv(fg_scores_path)\n",
    "gated = pd.read_csv(gated_scores_path)\n",
    "\n",
    "gated.rename(columns={'Lesion Gated': 'Gated', 'Pacient': 'patient'}, inplace=True)\n",
    "fake_gated = pd.merge(fake_gated, gated[['Gated', 'patient']], on='patient', how='left') "
   ]
  },
  {
   "cell_type": "code",
   "execution_count": 17,
   "metadata": {},
   "outputs": [
    {
     "data": {
      "application/vnd.microsoft.datawrangler.viewer.v0+json": {
       "columns": [
        {
         "name": "index",
         "rawType": "int64",
         "type": "integer"
        },
        {
         "name": "patient",
         "rawType": "int64",
         "type": "integer"
        },
        {
         "name": "Escore",
         "rawType": "float64",
         "type": "float"
        },
        {
         "name": "Lesion",
         "rawType": "int64",
         "type": "integer"
        },
        {
         "name": "Heart Mask",
         "rawType": "int64",
         "type": "integer"
        },
        {
         "name": "Lesion Error",
         "rawType": "float64",
         "type": "float"
        },
        {
         "name": "Heart Mask Error",
         "rawType": "float64",
         "type": "float"
        },
        {
         "name": "Gated",
         "rawType": "int64",
         "type": "integer"
        }
       ],
       "conversionMethod": "pd.DataFrame",
       "ref": "ee3e64f4-141c-442d-8d1e-ecfb2fa1a550",
       "rows": [
        [
         "0",
         "183077",
         "7.0",
         "0",
         "224006",
         "7.0",
         "-223999.0",
         "1"
        ],
        [
         "1",
         "74657",
         "725.0",
         "702",
         "241510",
         "23.0",
         "-240785.0",
         "707"
        ],
        [
         "2",
         "181613",
         "0.0",
         "33",
         "181441",
         "-33.0",
         "-181441.0",
         "0"
        ],
        [
         "3",
         "176253",
         "1082.0",
         "916",
         "164574",
         "166.0",
         "-163492.0",
         "405"
        ],
        [
         "4",
         "180545",
         "421.0",
         "129",
         "201016",
         "292.0",
         "-200595.0",
         "139"
        ]
       ],
       "shape": {
        "columns": 7,
        "rows": 5
       }
      },
      "text/html": [
       "<div>\n",
       "<style scoped>\n",
       "    .dataframe tbody tr th:only-of-type {\n",
       "        vertical-align: middle;\n",
       "    }\n",
       "\n",
       "    .dataframe tbody tr th {\n",
       "        vertical-align: top;\n",
       "    }\n",
       "\n",
       "    .dataframe thead th {\n",
       "        text-align: right;\n",
       "    }\n",
       "</style>\n",
       "<table border=\"1\" class=\"dataframe\">\n",
       "  <thead>\n",
       "    <tr style=\"text-align: right;\">\n",
       "      <th></th>\n",
       "      <th>patient</th>\n",
       "      <th>Escore</th>\n",
       "      <th>Lesion</th>\n",
       "      <th>Heart Mask</th>\n",
       "      <th>Lesion Error</th>\n",
       "      <th>Heart Mask Error</th>\n",
       "      <th>Gated</th>\n",
       "    </tr>\n",
       "  </thead>\n",
       "  <tbody>\n",
       "    <tr>\n",
       "      <th>0</th>\n",
       "      <td>183077</td>\n",
       "      <td>7.0</td>\n",
       "      <td>0</td>\n",
       "      <td>224006</td>\n",
       "      <td>7.0</td>\n",
       "      <td>-223999.0</td>\n",
       "      <td>1</td>\n",
       "    </tr>\n",
       "    <tr>\n",
       "      <th>1</th>\n",
       "      <td>74657</td>\n",
       "      <td>725.0</td>\n",
       "      <td>702</td>\n",
       "      <td>241510</td>\n",
       "      <td>23.0</td>\n",
       "      <td>-240785.0</td>\n",
       "      <td>707</td>\n",
       "    </tr>\n",
       "    <tr>\n",
       "      <th>2</th>\n",
       "      <td>181613</td>\n",
       "      <td>0.0</td>\n",
       "      <td>33</td>\n",
       "      <td>181441</td>\n",
       "      <td>-33.0</td>\n",
       "      <td>-181441.0</td>\n",
       "      <td>0</td>\n",
       "    </tr>\n",
       "    <tr>\n",
       "      <th>3</th>\n",
       "      <td>176253</td>\n",
       "      <td>1082.0</td>\n",
       "      <td>916</td>\n",
       "      <td>164574</td>\n",
       "      <td>166.0</td>\n",
       "      <td>-163492.0</td>\n",
       "      <td>405</td>\n",
       "    </tr>\n",
       "    <tr>\n",
       "      <th>4</th>\n",
       "      <td>180545</td>\n",
       "      <td>421.0</td>\n",
       "      <td>129</td>\n",
       "      <td>201016</td>\n",
       "      <td>292.0</td>\n",
       "      <td>-200595.0</td>\n",
       "      <td>139</td>\n",
       "    </tr>\n",
       "  </tbody>\n",
       "</table>\n",
       "</div>"
      ],
      "text/plain": [
       "   patient  Escore  Lesion  Heart Mask  Lesion Error  Heart Mask Error  Gated\n",
       "0   183077     7.0       0      224006           7.0         -223999.0      1\n",
       "1    74657   725.0     702      241510          23.0         -240785.0    707\n",
       "2   181613     0.0      33      181441         -33.0         -181441.0      0\n",
       "3   176253  1082.0     916      164574         166.0         -163492.0    405\n",
       "4   180545   421.0     129      201016         292.0         -200595.0    139"
      ]
     },
     "execution_count": 17,
     "metadata": {},
     "output_type": "execute_result"
    }
   ],
   "source": [
    "fake_gated.head()"
   ]
  },
  {
   "cell_type": "code",
   "execution_count": 18,
   "metadata": {},
   "outputs": [],
   "source": [
    "risk2_erros = fake_gated[(fake_gated.Escore >= 400) & (fake_gated.Lesion < 400)]"
   ]
  },
  {
   "cell_type": "code",
   "execution_count": 19,
   "metadata": {},
   "outputs": [
    {
     "name": "stdout",
     "output_type": "stream",
     "text": [
      "(2, 7)\n"
     ]
    }
   ],
   "source": [
    "print(risk2_erros.shape)"
   ]
  },
  {
   "cell_type": "code",
   "execution_count": 23,
   "metadata": {},
   "outputs": [
    {
     "data": {
      "application/vnd.microsoft.datawrangler.viewer.v0+json": {
       "columns": [
        {
         "name": "index",
         "rawType": "int64",
         "type": "integer"
        },
        {
         "name": "patient",
         "rawType": "int64",
         "type": "integer"
        },
        {
         "name": "Escore",
         "rawType": "float64",
         "type": "float"
        },
        {
         "name": "Lesion",
         "rawType": "int64",
         "type": "integer"
        },
        {
         "name": "Gated",
         "rawType": "int64",
         "type": "integer"
        }
       ],
       "conversionMethod": "pd.DataFrame",
       "ref": "522c144d-0219-4ade-a549-e62fbb48bd8d",
       "rows": [
        [
         "4",
         "180545",
         "421.0",
         "129",
         "139"
        ],
        [
         "46",
         "177233",
         "424.0",
         "379",
         "409"
        ]
       ],
       "shape": {
        "columns": 4,
        "rows": 2
       }
      },
      "text/html": [
       "<div>\n",
       "<style scoped>\n",
       "    .dataframe tbody tr th:only-of-type {\n",
       "        vertical-align: middle;\n",
       "    }\n",
       "\n",
       "    .dataframe tbody tr th {\n",
       "        vertical-align: top;\n",
       "    }\n",
       "\n",
       "    .dataframe thead th {\n",
       "        text-align: right;\n",
       "    }\n",
       "</style>\n",
       "<table border=\"1\" class=\"dataframe\">\n",
       "  <thead>\n",
       "    <tr style=\"text-align: right;\">\n",
       "      <th></th>\n",
       "      <th>patient</th>\n",
       "      <th>Escore</th>\n",
       "      <th>Lesion</th>\n",
       "      <th>Gated</th>\n",
       "    </tr>\n",
       "  </thead>\n",
       "  <tbody>\n",
       "    <tr>\n",
       "      <th>4</th>\n",
       "      <td>180545</td>\n",
       "      <td>421.0</td>\n",
       "      <td>129</td>\n",
       "      <td>139</td>\n",
       "    </tr>\n",
       "    <tr>\n",
       "      <th>46</th>\n",
       "      <td>177233</td>\n",
       "      <td>424.0</td>\n",
       "      <td>379</td>\n",
       "      <td>409</td>\n",
       "    </tr>\n",
       "  </tbody>\n",
       "</table>\n",
       "</div>"
      ],
      "text/plain": [
       "    patient  Escore  Lesion  Gated\n",
       "4    180545   421.0     129    139\n",
       "46   177233   424.0     379    409"
      ]
     },
     "execution_count": 23,
     "metadata": {},
     "output_type": "execute_result"
    }
   ],
   "source": [
    "risk2_erros[['patient', 'Escore', 'Lesion', 'Gated']].head()"
   ]
  },
  {
   "cell_type": "code",
   "execution_count": 22,
   "metadata": {},
   "outputs": [
    {
     "name": "stdout",
     "output_type": "stream",
     "text": [
      "(6, 7)\n"
     ]
    }
   ],
   "source": [
    "risk2 = fake_gated[fake_gated.Escore >= 400]\n",
    "print(risk2.shape)"
   ]
  },
  {
   "cell_type": "code",
   "execution_count": 25,
   "metadata": {},
   "outputs": [],
   "source": [
    "risk2_gated = gated[(gated.Escore >= 400) & (gated.Gated < 400)]"
   ]
  },
  {
   "cell_type": "code",
   "execution_count": 27,
   "metadata": {},
   "outputs": [
    {
     "data": {
      "application/vnd.microsoft.datawrangler.viewer.v0+json": {
       "columns": [
        {
         "name": "index",
         "rawType": "int64",
         "type": "integer"
        },
        {
         "name": "patient",
         "rawType": "int64",
         "type": "integer"
        },
        {
         "name": "Escore",
         "rawType": "float64",
         "type": "float"
        },
        {
         "name": "Gated",
         "rawType": "int64",
         "type": "integer"
        }
       ],
       "conversionMethod": "pd.DataFrame",
       "ref": "1f6c679f-7ca4-4073-8c37-53543e5dc6c4",
       "rows": [
        [
         "5",
         "180545",
         "421.0",
         "139"
        ],
        [
         "39",
         "182447",
         "405.0",
         "262"
        ]
       ],
       "shape": {
        "columns": 3,
        "rows": 2
       }
      },
      "text/html": [
       "<div>\n",
       "<style scoped>\n",
       "    .dataframe tbody tr th:only-of-type {\n",
       "        vertical-align: middle;\n",
       "    }\n",
       "\n",
       "    .dataframe tbody tr th {\n",
       "        vertical-align: top;\n",
       "    }\n",
       "\n",
       "    .dataframe thead th {\n",
       "        text-align: right;\n",
       "    }\n",
       "</style>\n",
       "<table border=\"1\" class=\"dataframe\">\n",
       "  <thead>\n",
       "    <tr style=\"text-align: right;\">\n",
       "      <th></th>\n",
       "      <th>patient</th>\n",
       "      <th>Escore</th>\n",
       "      <th>Gated</th>\n",
       "    </tr>\n",
       "  </thead>\n",
       "  <tbody>\n",
       "    <tr>\n",
       "      <th>5</th>\n",
       "      <td>180545</td>\n",
       "      <td>421.0</td>\n",
       "      <td>139</td>\n",
       "    </tr>\n",
       "    <tr>\n",
       "      <th>39</th>\n",
       "      <td>182447</td>\n",
       "      <td>405.0</td>\n",
       "      <td>262</td>\n",
       "    </tr>\n",
       "  </tbody>\n",
       "</table>\n",
       "</div>"
      ],
      "text/plain": [
       "    patient  Escore  Gated\n",
       "5    180545   421.0    139\n",
       "39   182447   405.0    262"
      ]
     },
     "execution_count": 27,
     "metadata": {},
     "output_type": "execute_result"
    }
   ],
   "source": [
    "risk2_gated[['patient', 'Escore', 'Gated']].head()"
   ]
  },
  {
   "cell_type": "code",
   "execution_count": 28,
   "metadata": {},
   "outputs": [
    {
     "name": "stdout",
     "output_type": "stream",
     "text": [
      "    patient  Escore  Lesion  Heart Mask  Lesion Error  Heart Mask Error  Gated\n",
      "35   182447   405.0     557      196548        -152.0         -196143.0    262\n"
     ]
    }
   ],
   "source": [
    "print(fake_gated[fake_gated.patient == 182447])"
   ]
  },
  {
   "cell_type": "code",
   "execution_count": null,
   "metadata": {},
   "outputs": [],
   "source": []
  }
 ],
 "metadata": {
  "kernelspec": {
   "display_name": "base",
   "language": "python",
   "name": "python3"
  },
  "language_info": {
   "codemirror_mode": {
    "name": "ipython",
    "version": 3
   },
   "file_extension": ".py",
   "mimetype": "text/x-python",
   "name": "python",
   "nbconvert_exporter": "python",
   "pygments_lexer": "ipython3",
   "version": "3.10.12"
  }
 },
 "nbformat": 4,
 "nbformat_minor": 2
}
